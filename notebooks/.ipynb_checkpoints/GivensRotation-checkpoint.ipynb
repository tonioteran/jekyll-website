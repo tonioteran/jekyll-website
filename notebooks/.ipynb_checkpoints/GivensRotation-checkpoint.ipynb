{
 "cells": [
  {
   "cell_type": "markdown",
   "metadata": {},
   "source": [
    "# Givens Rotations\n",
    "\n",
    "Step-by-step example of incremental QR factorization as outlined in *iSAM: Incremental Smoothing and Mapping* by Kaess et al."
   ]
  },
  {
   "cell_type": "code",
   "execution_count": 2,
   "metadata": {},
   "outputs": [],
   "source": [
    "import numpy as np"
   ]
  },
  {
   "cell_type": "markdown",
   "metadata": {},
   "source": [
    "Create a random matrix $\\mathbf{A}$ to factorize"
   ]
  },
  {
   "cell_type": "code",
   "execution_count": 3,
   "metadata": {},
   "outputs": [
    {
     "name": "stdout",
     "output_type": "stream",
     "text": [
      "[[  1   2   3   4]\n",
      " [  5  -6  -7   8]\n",
      " [ -9 -10   0  11]\n",
      " [ 12 -13 -14 -15]]\n"
     ]
    }
   ],
   "source": [
    "#A = np.random.rand(4,4)\n",
    "A = np.matrix([[1,2,3,4],[5,-6,-7,8],[-9,-10,0,11],[12,-13,-14,-15]])\n",
    "print(A)"
   ]
  },
  {
   "cell_type": "code",
   "execution_count": 4,
   "metadata": {},
   "outputs": [
    {
     "data": {
      "text/plain": [
       "array([[1., 0., 0., 0.],\n",
       "       [0., 1., 0., 0.],\n",
       "       [0., 0., 1., 0.],\n",
       "       [0., 0., 0., 1.]])"
      ]
     },
     "execution_count": 4,
     "metadata": {},
     "output_type": "execute_result"
    }
   ],
   "source": [
    "np.eye(4)"
   ]
  },
  {
   "cell_type": "code",
   "execution_count": 5,
   "metadata": {},
   "outputs": [],
   "source": [
    "def givensStep(A):\n",
    "    '''\n",
    "    performs a single givens rotation, and outputs result\n",
    "    '''\n",
    "    # Initialize givens rotation matrix\n",
    "    G = np.eye(4)\n",
    "    getout = False\n",
    "    for k in range(len(A)):\n",
    "        for i in range(k+1, len(A)):\n",
    "            if A[i,k] != 0:\n",
    "                alpha = A[k,k]\n",
    "                beta = A[i,k]\n",
    "                print(\"alpha = \" + str(alpha) + \", beta = \" + str(beta))\n",
    "                # Compute Givens Rotation Matrix according to criteria:\n",
    "                if beta == 0:\n",
    "                    c = 1\n",
    "                    s = 0\n",
    "                elif np.abs(beta) > np.abs(alpha):\n",
    "                    c = -alpha/( beta*np.sqrt(1 + (alpha/beta)**2) )\n",
    "                    s = 1/( np.sqrt(1 + (alpha/beta)**2) )\n",
    "                else:\n",
    "                    c = 1/( np.sqrt(1 + (beta/alpha)**2) )\n",
    "                    s = -beta/( alpha*np.sqrt(1 + (beta/alpha)**2) )\n",
    "                G[k,k] = c\n",
    "                G[i,k] = -s\n",
    "                G[k,i] = s\n",
    "                G[i,i] = c\n",
    "                print(\"Givens Rotation\")\n",
    "                print(G)\n",
    "                return G\n",
    "                getout = True\n",
    "                break\n",
    "        if getout:\n",
    "            break\n",
    "            \n",
    "        \n",
    "        \n",
    "            "
   ]
  },
  {
   "cell_type": "code",
   "execution_count": 13,
   "metadata": {},
   "outputs": [
    {
     "name": "stdout",
     "output_type": "stream",
     "text": [
      "alpha = 1, beta = 5\n",
      "Givens Rotation\n",
      "[[-0.19611614  0.98058068  0.          0.        ]\n",
      " [-0.98058068 -0.19611614  0.          0.        ]\n",
      " [ 0.          0.          1.          0.        ]\n",
      " [ 0.          0.          0.          1.        ]]\n"
     ]
    }
   ],
   "source": [
    "givensStep(A)"
   ]
  },
  {
   "cell_type": "code",
   "execution_count": null,
   "metadata": {},
   "outputs": [],
   "source": []
  },
  {
   "cell_type": "code",
   "execution_count": null,
   "metadata": {},
   "outputs": [],
   "source": []
  }
 ],
 "metadata": {
  "kernelspec": {
   "display_name": "Python 3",
   "language": "python",
   "name": "python3"
  },
  "language_info": {
   "codemirror_mode": {
    "name": "ipython",
    "version": 3
   },
   "file_extension": ".py",
   "mimetype": "text/x-python",
   "name": "python",
   "nbconvert_exporter": "python",
   "pygments_lexer": "ipython3",
   "version": "3.6.6"
  }
 },
 "nbformat": 4,
 "nbformat_minor": 2
}
